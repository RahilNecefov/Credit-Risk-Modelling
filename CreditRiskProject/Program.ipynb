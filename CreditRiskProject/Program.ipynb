{
 "cells": [
  {
   "cell_type": "markdown",
   "id": "bac55870",
   "metadata": {},
   "source": [
    "## *<center>Importing Libraries<center>"
   ]
  },
  {
   "cell_type": "code",
   "execution_count": 31,
   "id": "6a1d3383",
   "metadata": {},
   "outputs": [],
   "source": [
    "import numpy as np\n",
    "import pandas as pd\n",
    "import matplotlib.pyplot as plt\n",
    "import seaborn as sns\n",
    "\n",
    "from sklearn.preprocessing import StandardScaler,OneHotEncoder\n",
    "from imblearn.over_sampling import SMOTE\n",
    "from sklearn.model_selection import train_test_split"
   ]
  },
  {
   "cell_type": "code",
   "execution_count": 32,
   "id": "b3503af2",
   "metadata": {},
   "outputs": [
    {
     "data": {
      "text/html": [
       "<div>\n",
       "<style scoped>\n",
       "    .dataframe tbody tr th:only-of-type {\n",
       "        vertical-align: middle;\n",
       "    }\n",
       "\n",
       "    .dataframe tbody tr th {\n",
       "        vertical-align: top;\n",
       "    }\n",
       "\n",
       "    .dataframe thead th {\n",
       "        text-align: right;\n",
       "    }\n",
       "</style>\n",
       "<table border=\"1\" class=\"dataframe\">\n",
       "  <thead>\n",
       "    <tr style=\"text-align: right;\">\n",
       "      <th></th>\n",
       "      <th>person_age</th>\n",
       "      <th>person_income</th>\n",
       "      <th>person_home_ownership</th>\n",
       "      <th>person_emp_length</th>\n",
       "      <th>loan_intent</th>\n",
       "      <th>loan_grade</th>\n",
       "      <th>loan_amnt</th>\n",
       "      <th>loan_int_rate</th>\n",
       "      <th>loan_status</th>\n",
       "      <th>loan_percent_income</th>\n",
       "      <th>cb_person_default_on_file</th>\n",
       "      <th>cb_person_cred_hist_length</th>\n",
       "    </tr>\n",
       "  </thead>\n",
       "  <tbody>\n",
       "    <tr>\n",
       "      <th>0</th>\n",
       "      <td>22</td>\n",
       "      <td>59000</td>\n",
       "      <td>RENT</td>\n",
       "      <td>123.0</td>\n",
       "      <td>PERSONAL</td>\n",
       "      <td>D</td>\n",
       "      <td>35000</td>\n",
       "      <td>16.02</td>\n",
       "      <td>1</td>\n",
       "      <td>0.59</td>\n",
       "      <td>Y</td>\n",
       "      <td>3</td>\n",
       "    </tr>\n",
       "    <tr>\n",
       "      <th>1</th>\n",
       "      <td>21</td>\n",
       "      <td>9600</td>\n",
       "      <td>OWN</td>\n",
       "      <td>5.0</td>\n",
       "      <td>EDUCATION</td>\n",
       "      <td>B</td>\n",
       "      <td>1000</td>\n",
       "      <td>11.14</td>\n",
       "      <td>0</td>\n",
       "      <td>0.10</td>\n",
       "      <td>N</td>\n",
       "      <td>2</td>\n",
       "    </tr>\n",
       "    <tr>\n",
       "      <th>2</th>\n",
       "      <td>25</td>\n",
       "      <td>9600</td>\n",
       "      <td>MORTGAGE</td>\n",
       "      <td>1.0</td>\n",
       "      <td>MEDICAL</td>\n",
       "      <td>C</td>\n",
       "      <td>5500</td>\n",
       "      <td>12.87</td>\n",
       "      <td>1</td>\n",
       "      <td>0.57</td>\n",
       "      <td>N</td>\n",
       "      <td>3</td>\n",
       "    </tr>\n",
       "    <tr>\n",
       "      <th>3</th>\n",
       "      <td>23</td>\n",
       "      <td>65500</td>\n",
       "      <td>RENT</td>\n",
       "      <td>4.0</td>\n",
       "      <td>MEDICAL</td>\n",
       "      <td>C</td>\n",
       "      <td>35000</td>\n",
       "      <td>15.23</td>\n",
       "      <td>1</td>\n",
       "      <td>0.53</td>\n",
       "      <td>N</td>\n",
       "      <td>2</td>\n",
       "    </tr>\n",
       "    <tr>\n",
       "      <th>4</th>\n",
       "      <td>24</td>\n",
       "      <td>54400</td>\n",
       "      <td>RENT</td>\n",
       "      <td>8.0</td>\n",
       "      <td>MEDICAL</td>\n",
       "      <td>C</td>\n",
       "      <td>35000</td>\n",
       "      <td>14.27</td>\n",
       "      <td>1</td>\n",
       "      <td>0.55</td>\n",
       "      <td>Y</td>\n",
       "      <td>4</td>\n",
       "    </tr>\n",
       "  </tbody>\n",
       "</table>\n",
       "</div>"
      ],
      "text/plain": [
       "   person_age  person_income person_home_ownership  person_emp_length  \\\n",
       "0          22          59000                  RENT              123.0   \n",
       "1          21           9600                   OWN                5.0   \n",
       "2          25           9600              MORTGAGE                1.0   \n",
       "3          23          65500                  RENT                4.0   \n",
       "4          24          54400                  RENT                8.0   \n",
       "\n",
       "  loan_intent loan_grade  loan_amnt  loan_int_rate  loan_status  \\\n",
       "0    PERSONAL          D      35000          16.02            1   \n",
       "1   EDUCATION          B       1000          11.14            0   \n",
       "2     MEDICAL          C       5500          12.87            1   \n",
       "3     MEDICAL          C      35000          15.23            1   \n",
       "4     MEDICAL          C      35000          14.27            1   \n",
       "\n",
       "   loan_percent_income cb_person_default_on_file  cb_person_cred_hist_length  \n",
       "0                 0.59                         Y                           3  \n",
       "1                 0.10                         N                           2  \n",
       "2                 0.57                         N                           3  \n",
       "3                 0.53                         N                           2  \n",
       "4                 0.55                         Y                           4  "
      ]
     },
     "execution_count": 32,
     "metadata": {},
     "output_type": "execute_result"
    }
   ],
   "source": [
    "df = pd.read_csv('data.csv')\n",
    "df.head()"
   ]
  },
  {
   "cell_type": "markdown",
   "id": "26e4b4bd",
   "metadata": {},
   "source": [
    "## * <center>EDA<center>"
   ]
  },
  {
   "cell_type": "code",
   "execution_count": 33,
   "id": "a7a47d15",
   "metadata": {},
   "outputs": [
    {
     "data": {
      "text/plain": [
       "['person_age',\n",
       " 'person_income',\n",
       " 'person_home_ownership',\n",
       " 'person_emp_length',\n",
       " 'loan_intent',\n",
       " 'loan_grade',\n",
       " 'loan_amnt',\n",
       " 'loan_int_rate',\n",
       " 'loan_status',\n",
       " 'loan_percent_income',\n",
       " 'cb_person_default_on_file',\n",
       " 'cb_person_cred_hist_length']"
      ]
     },
     "execution_count": 33,
     "metadata": {},
     "output_type": "execute_result"
    }
   ],
   "source": [
    "df.columns.to_list()"
   ]
  },
  {
   "cell_type": "code",
   "execution_count": 34,
   "id": "fa3973e2",
   "metadata": {},
   "outputs": [
    {
     "name": "stdout",
     "output_type": "stream",
     "text": [
      "<class 'pandas.core.frame.DataFrame'>\n",
      "RangeIndex: 32581 entries, 0 to 32580\n",
      "Data columns (total 12 columns):\n",
      " #   Column                      Non-Null Count  Dtype  \n",
      "---  ------                      --------------  -----  \n",
      " 0   person_age                  32581 non-null  int64  \n",
      " 1   person_income               32581 non-null  int64  \n",
      " 2   person_home_ownership       32581 non-null  object \n",
      " 3   person_emp_length           31686 non-null  float64\n",
      " 4   loan_intent                 32581 non-null  object \n",
      " 5   loan_grade                  32581 non-null  object \n",
      " 6   loan_amnt                   32581 non-null  int64  \n",
      " 7   loan_int_rate               29465 non-null  float64\n",
      " 8   loan_status                 32581 non-null  int64  \n",
      " 9   loan_percent_income         32581 non-null  float64\n",
      " 10  cb_person_default_on_file   32581 non-null  object \n",
      " 11  cb_person_cred_hist_length  32581 non-null  int64  \n",
      "dtypes: float64(3), int64(5), object(4)\n",
      "memory usage: 3.0+ MB\n"
     ]
    }
   ],
   "source": [
    "df.info()"
   ]
  },
  {
   "cell_type": "code",
   "execution_count": 35,
   "id": "79933a56",
   "metadata": {},
   "outputs": [
    {
     "data": {
      "text/html": [
       "<div>\n",
       "<style scoped>\n",
       "    .dataframe tbody tr th:only-of-type {\n",
       "        vertical-align: middle;\n",
       "    }\n",
       "\n",
       "    .dataframe tbody tr th {\n",
       "        vertical-align: top;\n",
       "    }\n",
       "\n",
       "    .dataframe thead th {\n",
       "        text-align: right;\n",
       "    }\n",
       "</style>\n",
       "<table border=\"1\" class=\"dataframe\">\n",
       "  <thead>\n",
       "    <tr style=\"text-align: right;\">\n",
       "      <th></th>\n",
       "      <th>count</th>\n",
       "      <th>mean</th>\n",
       "      <th>std</th>\n",
       "      <th>min</th>\n",
       "      <th>25%</th>\n",
       "      <th>50%</th>\n",
       "      <th>75%</th>\n",
       "      <th>max</th>\n",
       "    </tr>\n",
       "  </thead>\n",
       "  <tbody>\n",
       "    <tr>\n",
       "      <th>person_age</th>\n",
       "      <td>32581.0</td>\n",
       "      <td>27.734600</td>\n",
       "      <td>6.348078</td>\n",
       "      <td>20.00</td>\n",
       "      <td>23.00</td>\n",
       "      <td>26.00</td>\n",
       "      <td>30.00</td>\n",
       "      <td>144.00</td>\n",
       "    </tr>\n",
       "    <tr>\n",
       "      <th>person_income</th>\n",
       "      <td>32581.0</td>\n",
       "      <td>66074.848470</td>\n",
       "      <td>61983.119168</td>\n",
       "      <td>4000.00</td>\n",
       "      <td>38500.00</td>\n",
       "      <td>55000.00</td>\n",
       "      <td>79200.00</td>\n",
       "      <td>6000000.00</td>\n",
       "    </tr>\n",
       "    <tr>\n",
       "      <th>person_emp_length</th>\n",
       "      <td>31686.0</td>\n",
       "      <td>4.789686</td>\n",
       "      <td>4.142630</td>\n",
       "      <td>0.00</td>\n",
       "      <td>2.00</td>\n",
       "      <td>4.00</td>\n",
       "      <td>7.00</td>\n",
       "      <td>123.00</td>\n",
       "    </tr>\n",
       "    <tr>\n",
       "      <th>loan_amnt</th>\n",
       "      <td>32581.0</td>\n",
       "      <td>9589.371106</td>\n",
       "      <td>6322.086646</td>\n",
       "      <td>500.00</td>\n",
       "      <td>5000.00</td>\n",
       "      <td>8000.00</td>\n",
       "      <td>12200.00</td>\n",
       "      <td>35000.00</td>\n",
       "    </tr>\n",
       "    <tr>\n",
       "      <th>loan_int_rate</th>\n",
       "      <td>29465.0</td>\n",
       "      <td>11.011695</td>\n",
       "      <td>3.240459</td>\n",
       "      <td>5.42</td>\n",
       "      <td>7.90</td>\n",
       "      <td>10.99</td>\n",
       "      <td>13.47</td>\n",
       "      <td>23.22</td>\n",
       "    </tr>\n",
       "    <tr>\n",
       "      <th>loan_status</th>\n",
       "      <td>32581.0</td>\n",
       "      <td>0.218164</td>\n",
       "      <td>0.413006</td>\n",
       "      <td>0.00</td>\n",
       "      <td>0.00</td>\n",
       "      <td>0.00</td>\n",
       "      <td>0.00</td>\n",
       "      <td>1.00</td>\n",
       "    </tr>\n",
       "    <tr>\n",
       "      <th>loan_percent_income</th>\n",
       "      <td>32581.0</td>\n",
       "      <td>0.170203</td>\n",
       "      <td>0.106782</td>\n",
       "      <td>0.00</td>\n",
       "      <td>0.09</td>\n",
       "      <td>0.15</td>\n",
       "      <td>0.23</td>\n",
       "      <td>0.83</td>\n",
       "    </tr>\n",
       "    <tr>\n",
       "      <th>cb_person_cred_hist_length</th>\n",
       "      <td>32581.0</td>\n",
       "      <td>5.804211</td>\n",
       "      <td>4.055001</td>\n",
       "      <td>2.00</td>\n",
       "      <td>3.00</td>\n",
       "      <td>4.00</td>\n",
       "      <td>8.00</td>\n",
       "      <td>30.00</td>\n",
       "    </tr>\n",
       "  </tbody>\n",
       "</table>\n",
       "</div>"
      ],
      "text/plain": [
       "                              count          mean           std      min  \\\n",
       "person_age                  32581.0     27.734600      6.348078    20.00   \n",
       "person_income               32581.0  66074.848470  61983.119168  4000.00   \n",
       "person_emp_length           31686.0      4.789686      4.142630     0.00   \n",
       "loan_amnt                   32581.0   9589.371106   6322.086646   500.00   \n",
       "loan_int_rate               29465.0     11.011695      3.240459     5.42   \n",
       "loan_status                 32581.0      0.218164      0.413006     0.00   \n",
       "loan_percent_income         32581.0      0.170203      0.106782     0.00   \n",
       "cb_person_cred_hist_length  32581.0      5.804211      4.055001     2.00   \n",
       "\n",
       "                                 25%       50%       75%         max  \n",
       "person_age                     23.00     26.00     30.00      144.00  \n",
       "person_income               38500.00  55000.00  79200.00  6000000.00  \n",
       "person_emp_length               2.00      4.00      7.00      123.00  \n",
       "loan_amnt                    5000.00   8000.00  12200.00    35000.00  \n",
       "loan_int_rate                   7.90     10.99     13.47       23.22  \n",
       "loan_status                     0.00      0.00      0.00        1.00  \n",
       "loan_percent_income             0.09      0.15      0.23        0.83  \n",
       "cb_person_cred_hist_length      3.00      4.00      8.00       30.00  "
      ]
     },
     "execution_count": 35,
     "metadata": {},
     "output_type": "execute_result"
    }
   ],
   "source": [
    "df.describe().T"
   ]
  },
  {
   "cell_type": "code",
   "execution_count": 36,
   "id": "37c842f0",
   "metadata": {},
   "outputs": [
    {
     "data": {
      "text/plain": [
       "person_age                       0\n",
       "person_income                    0\n",
       "person_home_ownership            0\n",
       "person_emp_length              895\n",
       "loan_intent                      0\n",
       "loan_grade                       0\n",
       "loan_amnt                        0\n",
       "loan_int_rate                 3116\n",
       "loan_status                      0\n",
       "loan_percent_income              0\n",
       "cb_person_default_on_file        0\n",
       "cb_person_cred_hist_length       0\n",
       "dtype: int64"
      ]
     },
     "execution_count": 36,
     "metadata": {},
     "output_type": "execute_result"
    }
   ],
   "source": [
    "df.isna().sum()"
   ]
  },
  {
   "cell_type": "code",
   "execution_count": 37,
   "id": "3af46739",
   "metadata": {},
   "outputs": [
    {
     "data": {
      "text/plain": [
       "(32581, 12)"
      ]
     },
     "execution_count": 37,
     "metadata": {},
     "output_type": "execute_result"
    }
   ],
   "source": [
    "df.shape               "
   ]
  },
  {
   "cell_type": "code",
   "execution_count": 38,
   "id": "57e5e120",
   "metadata": {},
   "outputs": [
    {
     "data": {
      "text/plain": [
       "person_age                      int64\n",
       "person_income                   int64\n",
       "person_home_ownership          object\n",
       "person_emp_length             float64\n",
       "loan_intent                    object\n",
       "loan_grade                     object\n",
       "loan_amnt                       int64\n",
       "loan_int_rate                 float64\n",
       "loan_status                     int64\n",
       "loan_percent_income           float64\n",
       "cb_person_default_on_file      object\n",
       "cb_person_cred_hist_length      int64\n",
       "dtype: object"
      ]
     },
     "execution_count": 38,
     "metadata": {},
     "output_type": "execute_result"
    }
   ],
   "source": [
    "df.dtypes"
   ]
  },
  {
   "cell_type": "code",
   "execution_count": 39,
   "id": "ae6467ad",
   "metadata": {},
   "outputs": [],
   "source": [
    "#Analizing categorical variables"
   ]
  },
  {
   "cell_type": "code",
   "execution_count": 40,
   "id": "f67889ee",
   "metadata": {},
   "outputs": [
    {
     "data": {
      "text/html": [
       "<div>\n",
       "<style scoped>\n",
       "    .dataframe tbody tr th:only-of-type {\n",
       "        vertical-align: middle;\n",
       "    }\n",
       "\n",
       "    .dataframe tbody tr th {\n",
       "        vertical-align: top;\n",
       "    }\n",
       "\n",
       "    .dataframe thead th {\n",
       "        text-align: right;\n",
       "    }\n",
       "</style>\n",
       "<table border=\"1\" class=\"dataframe\">\n",
       "  <thead>\n",
       "    <tr style=\"text-align: right;\">\n",
       "      <th></th>\n",
       "      <th>person_home_ownership</th>\n",
       "      <th>loan_intent</th>\n",
       "      <th>loan_grade</th>\n",
       "      <th>cb_person_default_on_file</th>\n",
       "    </tr>\n",
       "  </thead>\n",
       "  <tbody>\n",
       "    <tr>\n",
       "      <th>0</th>\n",
       "      <td>RENT</td>\n",
       "      <td>PERSONAL</td>\n",
       "      <td>D</td>\n",
       "      <td>Y</td>\n",
       "    </tr>\n",
       "    <tr>\n",
       "      <th>1</th>\n",
       "      <td>OWN</td>\n",
       "      <td>EDUCATION</td>\n",
       "      <td>B</td>\n",
       "      <td>N</td>\n",
       "    </tr>\n",
       "    <tr>\n",
       "      <th>2</th>\n",
       "      <td>MORTGAGE</td>\n",
       "      <td>MEDICAL</td>\n",
       "      <td>C</td>\n",
       "      <td>N</td>\n",
       "    </tr>\n",
       "    <tr>\n",
       "      <th>3</th>\n",
       "      <td>RENT</td>\n",
       "      <td>MEDICAL</td>\n",
       "      <td>C</td>\n",
       "      <td>N</td>\n",
       "    </tr>\n",
       "    <tr>\n",
       "      <th>4</th>\n",
       "      <td>RENT</td>\n",
       "      <td>MEDICAL</td>\n",
       "      <td>C</td>\n",
       "      <td>Y</td>\n",
       "    </tr>\n",
       "    <tr>\n",
       "      <th>...</th>\n",
       "      <td>...</td>\n",
       "      <td>...</td>\n",
       "      <td>...</td>\n",
       "      <td>...</td>\n",
       "    </tr>\n",
       "    <tr>\n",
       "      <th>32576</th>\n",
       "      <td>MORTGAGE</td>\n",
       "      <td>PERSONAL</td>\n",
       "      <td>C</td>\n",
       "      <td>N</td>\n",
       "    </tr>\n",
       "    <tr>\n",
       "      <th>32577</th>\n",
       "      <td>MORTGAGE</td>\n",
       "      <td>PERSONAL</td>\n",
       "      <td>A</td>\n",
       "      <td>N</td>\n",
       "    </tr>\n",
       "    <tr>\n",
       "      <th>32578</th>\n",
       "      <td>RENT</td>\n",
       "      <td>HOMEIMPROVEMENT</td>\n",
       "      <td>B</td>\n",
       "      <td>N</td>\n",
       "    </tr>\n",
       "    <tr>\n",
       "      <th>32579</th>\n",
       "      <td>MORTGAGE</td>\n",
       "      <td>PERSONAL</td>\n",
       "      <td>B</td>\n",
       "      <td>N</td>\n",
       "    </tr>\n",
       "    <tr>\n",
       "      <th>32580</th>\n",
       "      <td>RENT</td>\n",
       "      <td>MEDICAL</td>\n",
       "      <td>B</td>\n",
       "      <td>N</td>\n",
       "    </tr>\n",
       "  </tbody>\n",
       "</table>\n",
       "<p>32581 rows × 4 columns</p>\n",
       "</div>"
      ],
      "text/plain": [
       "      person_home_ownership      loan_intent loan_grade  \\\n",
       "0                      RENT         PERSONAL          D   \n",
       "1                       OWN        EDUCATION          B   \n",
       "2                  MORTGAGE          MEDICAL          C   \n",
       "3                      RENT          MEDICAL          C   \n",
       "4                      RENT          MEDICAL          C   \n",
       "...                     ...              ...        ...   \n",
       "32576              MORTGAGE         PERSONAL          C   \n",
       "32577              MORTGAGE         PERSONAL          A   \n",
       "32578                  RENT  HOMEIMPROVEMENT          B   \n",
       "32579              MORTGAGE         PERSONAL          B   \n",
       "32580                  RENT          MEDICAL          B   \n",
       "\n",
       "      cb_person_default_on_file  \n",
       "0                             Y  \n",
       "1                             N  \n",
       "2                             N  \n",
       "3                             N  \n",
       "4                             Y  \n",
       "...                         ...  \n",
       "32576                         N  \n",
       "32577                         N  \n",
       "32578                         N  \n",
       "32579                         N  \n",
       "32580                         N  \n",
       "\n",
       "[32581 rows x 4 columns]"
      ]
     },
     "execution_count": 40,
     "metadata": {},
     "output_type": "execute_result"
    }
   ],
   "source": [
    "#Categorical features\n",
    "df.select_dtypes(include='object')"
   ]
  },
  {
   "cell_type": "code",
   "execution_count": 41,
   "id": "b3db878d",
   "metadata": {},
   "outputs": [
    {
     "data": {
      "text/plain": [
       "person_home_ownership\n",
       "RENT        16446\n",
       "MORTGAGE    13444\n",
       "OWN          2584\n",
       "OTHER         107\n",
       "Name: count, dtype: int64"
      ]
     },
     "execution_count": 41,
     "metadata": {},
     "output_type": "execute_result"
    }
   ],
   "source": [
    "df.person_home_ownership.value_counts()"
   ]
  },
  {
   "cell_type": "code",
   "execution_count": 42,
   "id": "71c2aca6",
   "metadata": {},
   "outputs": [
    {
     "data": {
      "text/plain": [
       "loan_intent\n",
       "EDUCATION            6453\n",
       "MEDICAL              6071\n",
       "VENTURE              5719\n",
       "PERSONAL             5521\n",
       "DEBTCONSOLIDATION    5212\n",
       "HOMEIMPROVEMENT      3605\n",
       "Name: count, dtype: int64"
      ]
     },
     "execution_count": 42,
     "metadata": {},
     "output_type": "execute_result"
    }
   ],
   "source": [
    "df.loan_intent.value_counts()"
   ]
  },
  {
   "cell_type": "code",
   "execution_count": 43,
   "id": "d2a43d33",
   "metadata": {},
   "outputs": [
    {
     "data": {
      "text/plain": [
       "loan_grade\n",
       "A    10777\n",
       "B    10451\n",
       "C     6458\n",
       "D     3626\n",
       "E      964\n",
       "F      241\n",
       "G       64\n",
       "Name: count, dtype: int64"
      ]
     },
     "execution_count": 43,
     "metadata": {},
     "output_type": "execute_result"
    }
   ],
   "source": [
    "df.loan_grade.value_counts() #Ordinal Variable"
   ]
  },
  {
   "cell_type": "code",
   "execution_count": 44,
   "id": "dbeaaff9",
   "metadata": {},
   "outputs": [],
   "source": [
    "#analyzing numeric variables"
   ]
  },
  {
   "cell_type": "code",
   "execution_count": 45,
   "id": "a3a64d1c",
   "metadata": {},
   "outputs": [
    {
     "data": {
      "text/html": [
       "<div>\n",
       "<style scoped>\n",
       "    .dataframe tbody tr th:only-of-type {\n",
       "        vertical-align: middle;\n",
       "    }\n",
       "\n",
       "    .dataframe tbody tr th {\n",
       "        vertical-align: top;\n",
       "    }\n",
       "\n",
       "    .dataframe thead th {\n",
       "        text-align: right;\n",
       "    }\n",
       "</style>\n",
       "<table border=\"1\" class=\"dataframe\">\n",
       "  <thead>\n",
       "    <tr style=\"text-align: right;\">\n",
       "      <th></th>\n",
       "      <th>person_age</th>\n",
       "      <th>person_income</th>\n",
       "      <th>person_emp_length</th>\n",
       "      <th>loan_amnt</th>\n",
       "      <th>loan_int_rate</th>\n",
       "      <th>loan_status</th>\n",
       "      <th>loan_percent_income</th>\n",
       "      <th>cb_person_cred_hist_length</th>\n",
       "    </tr>\n",
       "  </thead>\n",
       "  <tbody>\n",
       "    <tr>\n",
       "      <th>0</th>\n",
       "      <td>22</td>\n",
       "      <td>59000</td>\n",
       "      <td>123.0</td>\n",
       "      <td>35000</td>\n",
       "      <td>16.02</td>\n",
       "      <td>1</td>\n",
       "      <td>0.59</td>\n",
       "      <td>3</td>\n",
       "    </tr>\n",
       "    <tr>\n",
       "      <th>1</th>\n",
       "      <td>21</td>\n",
       "      <td>9600</td>\n",
       "      <td>5.0</td>\n",
       "      <td>1000</td>\n",
       "      <td>11.14</td>\n",
       "      <td>0</td>\n",
       "      <td>0.10</td>\n",
       "      <td>2</td>\n",
       "    </tr>\n",
       "    <tr>\n",
       "      <th>2</th>\n",
       "      <td>25</td>\n",
       "      <td>9600</td>\n",
       "      <td>1.0</td>\n",
       "      <td>5500</td>\n",
       "      <td>12.87</td>\n",
       "      <td>1</td>\n",
       "      <td>0.57</td>\n",
       "      <td>3</td>\n",
       "    </tr>\n",
       "    <tr>\n",
       "      <th>3</th>\n",
       "      <td>23</td>\n",
       "      <td>65500</td>\n",
       "      <td>4.0</td>\n",
       "      <td>35000</td>\n",
       "      <td>15.23</td>\n",
       "      <td>1</td>\n",
       "      <td>0.53</td>\n",
       "      <td>2</td>\n",
       "    </tr>\n",
       "    <tr>\n",
       "      <th>4</th>\n",
       "      <td>24</td>\n",
       "      <td>54400</td>\n",
       "      <td>8.0</td>\n",
       "      <td>35000</td>\n",
       "      <td>14.27</td>\n",
       "      <td>1</td>\n",
       "      <td>0.55</td>\n",
       "      <td>4</td>\n",
       "    </tr>\n",
       "    <tr>\n",
       "      <th>...</th>\n",
       "      <td>...</td>\n",
       "      <td>...</td>\n",
       "      <td>...</td>\n",
       "      <td>...</td>\n",
       "      <td>...</td>\n",
       "      <td>...</td>\n",
       "      <td>...</td>\n",
       "      <td>...</td>\n",
       "    </tr>\n",
       "    <tr>\n",
       "      <th>32576</th>\n",
       "      <td>57</td>\n",
       "      <td>53000</td>\n",
       "      <td>1.0</td>\n",
       "      <td>5800</td>\n",
       "      <td>13.16</td>\n",
       "      <td>0</td>\n",
       "      <td>0.11</td>\n",
       "      <td>30</td>\n",
       "    </tr>\n",
       "    <tr>\n",
       "      <th>32577</th>\n",
       "      <td>54</td>\n",
       "      <td>120000</td>\n",
       "      <td>4.0</td>\n",
       "      <td>17625</td>\n",
       "      <td>7.49</td>\n",
       "      <td>0</td>\n",
       "      <td>0.15</td>\n",
       "      <td>19</td>\n",
       "    </tr>\n",
       "    <tr>\n",
       "      <th>32578</th>\n",
       "      <td>65</td>\n",
       "      <td>76000</td>\n",
       "      <td>3.0</td>\n",
       "      <td>35000</td>\n",
       "      <td>10.99</td>\n",
       "      <td>1</td>\n",
       "      <td>0.46</td>\n",
       "      <td>28</td>\n",
       "    </tr>\n",
       "    <tr>\n",
       "      <th>32579</th>\n",
       "      <td>56</td>\n",
       "      <td>150000</td>\n",
       "      <td>5.0</td>\n",
       "      <td>15000</td>\n",
       "      <td>11.48</td>\n",
       "      <td>0</td>\n",
       "      <td>0.10</td>\n",
       "      <td>26</td>\n",
       "    </tr>\n",
       "    <tr>\n",
       "      <th>32580</th>\n",
       "      <td>66</td>\n",
       "      <td>42000</td>\n",
       "      <td>2.0</td>\n",
       "      <td>6475</td>\n",
       "      <td>9.99</td>\n",
       "      <td>0</td>\n",
       "      <td>0.15</td>\n",
       "      <td>30</td>\n",
       "    </tr>\n",
       "  </tbody>\n",
       "</table>\n",
       "<p>32581 rows × 8 columns</p>\n",
       "</div>"
      ],
      "text/plain": [
       "       person_age  person_income  person_emp_length  loan_amnt  loan_int_rate  \\\n",
       "0              22          59000              123.0      35000          16.02   \n",
       "1              21           9600                5.0       1000          11.14   \n",
       "2              25           9600                1.0       5500          12.87   \n",
       "3              23          65500                4.0      35000          15.23   \n",
       "4              24          54400                8.0      35000          14.27   \n",
       "...           ...            ...                ...        ...            ...   \n",
       "32576          57          53000                1.0       5800          13.16   \n",
       "32577          54         120000                4.0      17625           7.49   \n",
       "32578          65          76000                3.0      35000          10.99   \n",
       "32579          56         150000                5.0      15000          11.48   \n",
       "32580          66          42000                2.0       6475           9.99   \n",
       "\n",
       "       loan_status  loan_percent_income  cb_person_cred_hist_length  \n",
       "0                1                 0.59                           3  \n",
       "1                0                 0.10                           2  \n",
       "2                1                 0.57                           3  \n",
       "3                1                 0.53                           2  \n",
       "4                1                 0.55                           4  \n",
       "...            ...                  ...                         ...  \n",
       "32576            0                 0.11                          30  \n",
       "32577            0                 0.15                          19  \n",
       "32578            1                 0.46                          28  \n",
       "32579            0                 0.10                          26  \n",
       "32580            0                 0.15                          30  \n",
       "\n",
       "[32581 rows x 8 columns]"
      ]
     },
     "execution_count": 45,
     "metadata": {},
     "output_type": "execute_result"
    }
   ],
   "source": [
    "df.select_dtypes(include=['int64',\"float64\"])"
   ]
  },
  {
   "cell_type": "code",
   "execution_count": 46,
   "id": "88465af4",
   "metadata": {},
   "outputs": [
    {
     "data": {
      "text/plain": [
       "(0.0, 80.0)"
      ]
     },
     "execution_count": 46,
     "metadata": {},
     "output_type": "execute_result"
    },
    {
     "data": {
      "image/png": "[encoded data removed]",
      "text/plain": [
       "<Figure size 640x480 with 1 Axes>"
      ]
     },
     "metadata": {},
     "output_type": "display_data"
    }
   ],
   "source": [
    "# bunu etmekde sebebim outlier detection ve removal ucun z-score yoxsa quantile istifade etmeyimdir\n",
    "sns.histplot(data=df,x='person_emp_length',bins=100)\n",
    "plt.xlim(0, 80)"
   ]
  },
  {
   "cell_type": "code",
   "execution_count": 47,
   "id": "646e73dc",
   "metadata": {},
   "outputs": [
    {
     "data": {
      "text/plain": [
       "(0.0, 300000.0)"
      ]
     },
     "execution_count": 47,
     "metadata": {},
     "output_type": "execute_result"
    },
    {
     "data": {
      "image/png": "[encoded data removed]",
      "text/plain": [
       "<Figure size 640x480 with 1 Axes>"
      ]
     },
     "metadata": {},
     "output_type": "display_data"
    }
   ],
   "source": [
    "sns.histplot(data=df,x='person_income',bins=500)\n",
    "plt.xlim(0, 300000)"
   ]
  },
  {
   "cell_type": "code",
   "execution_count": 48,
   "id": "e7fd7918",
   "metadata": {},
   "outputs": [],
   "source": [
    "#Outlier Handling actually preproocessing step \n",
    "def outlier_detection(data, column_name):\n",
    "    Q1 = data[column_name].quantile(0.25)\n",
    "    Q3 = data[column_name].quantile(0.75)\n",
    "    IQR = Q3 - Q1\n",
    "    \n",
    "    lower_bound = Q1 - 1.5 * IQR\n",
    "    upper_bound = Q3 + 1.5 * IQR\n",
    "    \n",
    "    # Filter data (outliers silinir)\n",
    "    clean_data = data[(data[column_name] >= lower_bound) & (data[column_name] <= upper_bound)]\n",
    "    return clean_data"
   ]
  },
  {
   "cell_type": "code",
   "execution_count": 49,
   "id": "cd194d5e",
   "metadata": {},
   "outputs": [
    {
     "data": {
      "text/plain": [
       "(32581, 12)"
      ]
     },
     "execution_count": 49,
     "metadata": {},
     "output_type": "execute_result"
    }
   ],
   "source": [
    "df.shape"
   ]
  },
  {
   "cell_type": "code",
   "execution_count": 50,
   "id": "5f313e56",
   "metadata": {},
   "outputs": [],
   "source": [
    "df = outlier_detection(df,'person_income')"
   ]
  },
  {
   "cell_type": "code",
   "execution_count": 51,
   "id": "994a98c2",
   "metadata": {},
   "outputs": [],
   "source": [
    "df = outlier_detection(df,'person_emp_length')"
   ]
  },
  {
   "cell_type": "code",
   "execution_count": 52,
   "id": "d10e3609",
   "metadata": {},
   "outputs": [
    {
     "data": {
      "text/plain": [
       "(29457, 12)"
      ]
     },
     "execution_count": 52,
     "metadata": {},
     "output_type": "execute_result"
    }
   ],
   "source": [
    "df.shape"
   ]
  },
  {
   "cell_type": "code",
   "execution_count": 53,
   "id": "2869b472",
   "metadata": {},
   "outputs": [
    {
     "data": {
      "image/png": "[encoded data removed]",
      "text/plain": [
       "<Figure size 640x480 with 1 Axes>"
      ]
     },
     "metadata": {},
     "output_type": "display_data"
    }
   ],
   "source": [
    "#Class inbalance yoxladim count plot ile.\n",
    "\n",
    "sns.countplot(x=\"loan_status\", data=df,hue=\"loan_status\")\n",
    "# X oxundakı tick-ləri dəyiş\n",
    "plt.xticks([0, 1], [\"Non-Default\", \"Default\"])\n",
    "# Öz legendini təyin et\n",
    "plt.legend([\"Non-Default\", \"Default\"], title=\"Loan Status\", loc=\"upper right\")\n",
    "plt.xlabel(\"Loan Status\")\n",
    "plt.ylabel(\"Count\")\n",
    "plt.title(\"Distribution of Loan Status\")\n",
    "\n",
    "# Put counts inside bars (middle)\n",
    "for container in plt.gca().containers:\n",
    "    plt.bar_label(container, label_type='center', color=\"black\")\n",
    "\n",
    "plt.show()\n"
   ]
  },
  {
   "cell_type": "code",
   "execution_count": 98,
   "id": "f5a006df",
   "metadata": {},
   "outputs": [
    {
     "data": {
      "image/png": "[encoded data removed]",
      "text/plain": [
       "<Figure size 1000x800 with 2 Axes>"
      ]
     },
     "metadata": {},
     "output_type": "display_data"
    }
   ],
   "source": [
    "corr = df.corr(numeric_only=True)\n",
    "plt.figure(figsize=(10,8))\n",
    "sns.heatmap(corr, annot=True, cmap=\"coolwarm\", center=0)\n",
    "plt.show()\n",
    "#Logistic Regression edərkən person_age ilə cb_person_cred_hist_length çox korrelyasiyalıdır.\n",
    "#Onlardan birini çıxartmalısan → ən yaxşı seçim person_age-i çıxarmaqdır"
   ]
  },
  {
   "cell_type": "markdown",
   "id": "8b9c9432",
   "metadata": {},
   "source": [
    "## * <center>Preprocessing<center>"
   ]
  },
  {
   "cell_type": "code",
   "execution_count": 54,
   "id": "4a04c8bf",
   "metadata": {},
   "outputs": [],
   "source": [
    "#Handling Null value\n",
    "#normally distributed olmayanda median inpute ele"
   ]
  },
  {
   "cell_type": "code",
   "execution_count": 55,
   "id": "a756dc7f",
   "metadata": {},
   "outputs": [],
   "source": [
    "df['loan_int_rate'] = df['loan_int_rate'].fillna(df['loan_int_rate'].median())\n",
    "df['person_emp_length'] = df['person_emp_length'].fillna(df['person_emp_length'].median())"
   ]
  },
  {
   "cell_type": "code",
   "execution_count": 56,
   "id": "7f4903c5",
   "metadata": {},
   "outputs": [
    {
     "data": {
      "text/plain": [
       "person_age                    0\n",
       "person_income                 0\n",
       "person_home_ownership         0\n",
       "person_emp_length             0\n",
       "loan_intent                   0\n",
       "loan_grade                    0\n",
       "loan_amnt                     0\n",
       "loan_int_rate                 0\n",
       "loan_status                   0\n",
       "loan_percent_income           0\n",
       "cb_person_default_on_file     0\n",
       "cb_person_cred_hist_length    0\n",
       "dtype: int64"
      ]
     },
     "execution_count": 56,
     "metadata": {},
     "output_type": "execute_result"
    }
   ],
   "source": [
    "df.isna().sum()"
   ]
  },
  {
   "cell_type": "code",
   "execution_count": 57,
   "id": "0e3291ad",
   "metadata": {},
   "outputs": [],
   "source": [
    "#Categoric valuelara dummy apply etmeliyem"
   ]
  },
  {
   "cell_type": "code",
   "execution_count": 58,
   "id": "2dbca5c0",
   "metadata": {},
   "outputs": [
    {
     "data": {
      "text/html": [
       "<div>\n",
       "<style scoped>\n",
       "    .dataframe tbody tr th:only-of-type {\n",
       "        vertical-align: middle;\n",
       "    }\n",
       "\n",
       "    .dataframe tbody tr th {\n",
       "        vertical-align: top;\n",
       "    }\n",
       "\n",
       "    .dataframe thead th {\n",
       "        text-align: right;\n",
       "    }\n",
       "</style>\n",
       "<table border=\"1\" class=\"dataframe\">\n",
       "  <thead>\n",
       "    <tr style=\"text-align: right;\">\n",
       "      <th></th>\n",
       "      <th>person_home_ownership</th>\n",
       "      <th>loan_intent</th>\n",
       "      <th>loan_grade</th>\n",
       "      <th>cb_person_default_on_file</th>\n",
       "    </tr>\n",
       "  </thead>\n",
       "  <tbody>\n",
       "    <tr>\n",
       "      <th>1</th>\n",
       "      <td>OWN</td>\n",
       "      <td>EDUCATION</td>\n",
       "      <td>B</td>\n",
       "      <td>N</td>\n",
       "    </tr>\n",
       "    <tr>\n",
       "      <th>2</th>\n",
       "      <td>MORTGAGE</td>\n",
       "      <td>MEDICAL</td>\n",
       "      <td>C</td>\n",
       "      <td>N</td>\n",
       "    </tr>\n",
       "    <tr>\n",
       "      <th>3</th>\n",
       "      <td>RENT</td>\n",
       "      <td>MEDICAL</td>\n",
       "      <td>C</td>\n",
       "      <td>N</td>\n",
       "    </tr>\n",
       "    <tr>\n",
       "      <th>4</th>\n",
       "      <td>RENT</td>\n",
       "      <td>MEDICAL</td>\n",
       "      <td>C</td>\n",
       "      <td>Y</td>\n",
       "    </tr>\n",
       "    <tr>\n",
       "      <th>5</th>\n",
       "      <td>OWN</td>\n",
       "      <td>VENTURE</td>\n",
       "      <td>A</td>\n",
       "      <td>N</td>\n",
       "    </tr>\n",
       "    <tr>\n",
       "      <th>...</th>\n",
       "      <td>...</td>\n",
       "      <td>...</td>\n",
       "      <td>...</td>\n",
       "      <td>...</td>\n",
       "    </tr>\n",
       "    <tr>\n",
       "      <th>32575</th>\n",
       "      <td>RENT</td>\n",
       "      <td>EDUCATION</td>\n",
       "      <td>B</td>\n",
       "      <td>N</td>\n",
       "    </tr>\n",
       "    <tr>\n",
       "      <th>32576</th>\n",
       "      <td>MORTGAGE</td>\n",
       "      <td>PERSONAL</td>\n",
       "      <td>C</td>\n",
       "      <td>N</td>\n",
       "    </tr>\n",
       "    <tr>\n",
       "      <th>32577</th>\n",
       "      <td>MORTGAGE</td>\n",
       "      <td>PERSONAL</td>\n",
       "      <td>A</td>\n",
       "      <td>N</td>\n",
       "    </tr>\n",
       "    <tr>\n",
       "      <th>32578</th>\n",
       "      <td>RENT</td>\n",
       "      <td>HOMEIMPROVEMENT</td>\n",
       "      <td>B</td>\n",
       "      <td>N</td>\n",
       "    </tr>\n",
       "    <tr>\n",
       "      <th>32580</th>\n",
       "      <td>RENT</td>\n",
       "      <td>MEDICAL</td>\n",
       "      <td>B</td>\n",
       "      <td>N</td>\n",
       "    </tr>\n",
       "  </tbody>\n",
       "</table>\n",
       "<p>29457 rows × 4 columns</p>\n",
       "</div>"
      ],
      "text/plain": [
       "      person_home_ownership      loan_intent loan_grade  \\\n",
       "1                       OWN        EDUCATION          B   \n",
       "2                  MORTGAGE          MEDICAL          C   \n",
       "3                      RENT          MEDICAL          C   \n",
       "4                      RENT          MEDICAL          C   \n",
       "5                       OWN          VENTURE          A   \n",
       "...                     ...              ...        ...   \n",
       "32575                  RENT        EDUCATION          B   \n",
       "32576              MORTGAGE         PERSONAL          C   \n",
       "32577              MORTGAGE         PERSONAL          A   \n",
       "32578                  RENT  HOMEIMPROVEMENT          B   \n",
       "32580                  RENT          MEDICAL          B   \n",
       "\n",
       "      cb_person_default_on_file  \n",
       "1                             N  \n",
       "2                             N  \n",
       "3                             N  \n",
       "4                             Y  \n",
       "5                             N  \n",
       "...                         ...  \n",
       "32575                         N  \n",
       "32576                         N  \n",
       "32577                         N  \n",
       "32578                         N  \n",
       "32580                         N  \n",
       "\n",
       "[29457 rows x 4 columns]"
      ]
     },
     "execution_count": 58,
     "metadata": {},
     "output_type": "execute_result"
    }
   ],
   "source": [
    "df.select_dtypes(include=object)"
   ]
  },
  {
   "cell_type": "code",
   "execution_count": 70,
   "id": "74a9bc6a",
   "metadata": {},
   "outputs": [],
   "source": [
    "#targeti define edirem\n",
    "df = df.rename(columns={'loan_status': 'target'})"
   ]
  },
  {
   "cell_type": "code",
   "execution_count": 81,
   "id": "e7c96c96",
   "metadata": {},
   "outputs": [],
   "source": [
    "X = df.drop('target',axis=1)\n",
    "y = df['target']\n",
    "\n",
    "X_train, X_test, y_train, y_test = train_test_split(\n",
    "    X, y, test_size=0.2, stratify=y, random_state=42\n",
    ")"
   ]
  },
  {
   "cell_type": "code",
   "execution_count": 82,
   "id": "c1154dad",
   "metadata": {},
   "outputs": [],
   "source": [
    "# ====== 3. Skew düzəltmək üçün log transform (yalnız train-də fit etmək lazım deyil, sabit funksiya)\n",
    "skewed_cols = [\"person_income\", \"loan_amnt\", \"loan_percent_income\"]\n",
    "\n",
    "for col in skewed_cols:\n",
    "    X_train[col] = np.log1p(X_train[col])\n",
    "    X_test[col]  = np.log1p(X_test[col])\n"
   ]
  },
  {
   "cell_type": "code",
   "execution_count": 83,
   "id": "ca15aa12",
   "metadata": {},
   "outputs": [],
   "source": [
    "# ====== 4. Scaling (StandardScaler) – yalnız train-də fit, test-də transform\n",
    "num_cols = [\n",
    "    \"person_age\",\"person_income\",\"person_emp_length\",\"loan_amnt\",\n",
    "    \"loan_int_rate\",\"loan_percent_income\",\"cb_person_cred_hist_length\"\n",
    "]\n",
    "\n",
    "scaler = StandardScaler()\n",
    "X_train[num_cols] = scaler.fit_transform(X_train[num_cols])\n",
    "X_test[num_cols]  = scaler.transform(X_test[num_cols])"
   ]
  },
  {
   "cell_type": "code",
   "execution_count": 84,
   "id": "8046dfda",
   "metadata": {},
   "outputs": [],
   "source": [
    "# --- Binary (Y/N → 0/1) sabit mapping, leakage yoxdur\n",
    "X_train[\"cb_person_default_on_file\"] = X_train[\"cb_person_default_on_file\"].map({\"Y\":1,\"N\":0})\n",
    "X_test[\"cb_person_default_on_file\"]  = X_test[\"cb_person_default_on_file\"].map({\"Y\":1,\"N\":0})"
   ]
  },
  {
   "cell_type": "code",
   "execution_count": 85,
   "id": "a7975b80",
   "metadata": {},
   "outputs": [],
   "source": [
    "# --- Ordinal (A-G sıralıdır)\n",
    "ordinal_map = {\"A\":1,\"B\":2,\"C\":3,\"D\":4,\"E\":5,\"F\":6,\"G\":7}\n",
    "X_train[\"loan_grade\"] = X_train[\"loan_grade\"].map(ordinal_map)\n",
    "X_test[\"loan_grade\"]  = X_test[\"loan_grade\"].map(ordinal_map)"
   ]
  },
  {
   "cell_type": "code",
   "execution_count": 88,
   "id": "8fce13a6",
   "metadata": {},
   "outputs": [],
   "source": [
    "# --- Nominal (OneHotEncoder)\n",
    "nominal_cols = [\"person_home_ownership\", \"loan_intent\"]\n",
    "\n",
    "ohe = OneHotEncoder(drop=\"first\", handle_unknown=\"ignore\", sparse_output=False)\n",
    "\n",
    "X_train_ohe = ohe.fit_transform(X_train[nominal_cols])\n",
    "X_test_ohe  = ohe.transform(X_test[nominal_cols])\n",
    "\n",
    "# Yeni sütun adları götürək\n",
    "ohe_cols = ohe.get_feature_names_out(nominal_cols)\n",
    "\n",
    "# DataFrame-ə çevir\n",
    "X_train_ohe = pd.DataFrame(X_train_ohe, columns=ohe_cols, index=X_train.index)\n",
    "X_test_ohe  = pd.DataFrame(X_test_ohe,  columns=ohe_cols, index=X_test.index)\n"
   ]
  },
  {
   "cell_type": "code",
   "execution_count": 89,
   "id": "446c041d",
   "metadata": {},
   "outputs": [],
   "source": [
    "# Kohne nominal sütunları at, yeni encoded sütunları əlavə et\n",
    "X_train = pd.concat([X_train.drop(columns=nominal_cols), X_train_ohe], axis=1)\n",
    "X_test  = pd.concat([X_test.drop(columns=nominal_cols),  X_test_ohe], axis=1)\n"
   ]
  },
  {
   "cell_type": "code",
   "execution_count": null,
   "id": "484a1492",
   "metadata": {},
   "outputs": [],
   "source": [
    "#Handling Imbalance"
   ]
  },
  {
   "cell_type": "code",
   "execution_count": 90,
   "id": "25e801e4",
   "metadata": {},
   "outputs": [
    {
     "name": "stdout",
     "output_type": "stream",
     "text": [
      "Before SMOTE: target\n",
      "0    18325\n",
      "1     5240\n",
      "Name: count, dtype: int64\n",
      "After SMOTE : target\n",
      "0    18325\n",
      "1    18325\n",
      "Name: count, dtype: int64\n"
     ]
    }
   ],
   "source": [
    "# ====== 6. Imbalance həlli (SMOTE yalnız train set-də)\n",
    "print(\"Before SMOTE:\", y_train.value_counts())\n",
    "\n",
    "smote = SMOTE(random_state=42, k_neighbors=5)\n",
    "X_train_res, y_train_res = smote.fit_resample(X_train, y_train)\n",
    "\n",
    "print(\"After SMOTE :\", y_train_res.value_counts())\n"
   ]
  },
  {
   "cell_type": "code",
   "execution_count": 96,
   "id": "89a31c33",
   "metadata": {},
   "outputs": [
    {
     "data": {
      "text/plain": [
       "'\\nSon yoxlamalar (tez baxış)\\n\\nNA qalıb? X_train.isna().sum().sum() və X_test.isna().sum().sum() → 0 olmalıdır.\\nLog üçün mənfi/NaN? (sən log1p etmisən, 0-dan kiçik olmamalıdır).\\nSütun uyğunluğu: X_train.columns.equals(X_test.columns) → True olmalıdır.\\nClass balansı: SMOTE sonrası y_train_res.value_counts() balanslıdır?\\nMulticollinearity: çox korrelyasiya edən numeric-lər varsa (|ρ|>0.9) birini çıxarmaq faydalıdır.\\nInformation leakage? Məs: loan_int_rate birbaşa qərardan törəmiş deyilmi? (səndə normaldır).\\n'"
      ]
     },
     "execution_count": 96,
     "metadata": {},
     "output_type": "execute_result"
    }
   ],
   "source": [
    "\"\"\"\n",
    "Son yoxlamalar (tez baxış)\n",
    "\n",
    "NA qalıb? X_train.isna().sum().sum() və X_test.isna().sum().sum() → 0 olmalıdır.\n",
    "Log üçün mənfi/NaN? (sən log1p etmisən, 0-dan kiçik olmamalıdır).\n",
    "Sütun uyğunluğu: X_train.columns.equals(X_test.columns) → True olmalıdır.\n",
    "Class balansı: SMOTE sonrası y_train_res.value_counts() balanslıdır?\n",
    "Multicollinearity: çox korrelyasiya edən numeric-lər varsa (|ρ|>0.9) birini çıxarmaq faydalıdır.\n",
    "Information leakage? Məs: loan_int_rate birbaşa qərardan törəmiş deyilmi? (səndə normaldır).\n",
    "\"\"\""
   ]
  },
  {
   "cell_type": "code",
   "execution_count": 93,
   "id": "7a7463b6",
   "metadata": {},
   "outputs": [
    {
     "data": {
      "text/plain": [
       "0"
      ]
     },
     "execution_count": 93,
     "metadata": {},
     "output_type": "execute_result"
    }
   ],
   "source": [
    "X_train.isna().sum().sum()"
   ]
  },
  {
   "cell_type": "code",
   "execution_count": 94,
   "id": "644d553a",
   "metadata": {},
   "outputs": [
    {
     "data": {
      "text/plain": [
       "True"
      ]
     },
     "execution_count": 94,
     "metadata": {},
     "output_type": "execute_result"
    }
   ],
   "source": [
    "X_train.columns.equals(X_test.columns)"
   ]
  },
  {
   "cell_type": "code",
   "execution_count": 95,
   "id": "d47c471e",
   "metadata": {},
   "outputs": [
    {
     "data": {
      "text/plain": [
       "target\n",
       "0    18325\n",
       "1    18325\n",
       "Name: count, dtype: int64"
      ]
     },
     "execution_count": 95,
     "metadata": {},
     "output_type": "execute_result"
    }
   ],
   "source": [
    "y_train_res.value_counts()"
   ]
  },
  {
   "cell_type": "markdown",
   "id": "2ffaf372",
   "metadata": {},
   "source": [
    "## * <center>Model Development<center>"
   ]
  },
  {
   "cell_type": "code",
   "execution_count": 102,
   "id": "543e4720",
   "metadata": {},
   "outputs": [
    {
     "name": "stdout",
     "output_type": "stream",
     "text": [
      "Best params: {'C': 0.1, 'class_weight': None, 'max_iter': 5000, 'n_jobs': -1, 'penalty': 'l2', 'random_state': 42, 'solver': 'saga'}\n",
      "CV ROC-AUC : 0.8705\n",
      "Chosen threshold (cost-based): 0.396\n",
      "AUC=0.875 | Precision=0.493 | Recall=0.835 | F1=0.620\n",
      "Confusion Matrix [ [TN FP] [FN TP] ]:\n",
      " [[3458 1124]\n",
      " [ 216 1094]]\n",
      "\n",
      "Top 10 features by |coef|:\n",
      "                        feature      coef  abs_coef sign\n",
      "10   person_home_ownership_OWN -1.799987  1.799987    -\n",
      "6          loan_percent_income  1.536968  1.536968    +\n",
      "16         loan_intent_VENTURE -1.172282  1.172282    -\n",
      "4                    loan_amnt -0.850746  0.850746    -\n",
      "12       loan_intent_EDUCATION -0.822758  0.822758    -\n",
      "3                   loan_grade  0.769991  0.769991    +\n",
      "11  person_home_ownership_RENT  0.567994  0.567994    +\n",
      "15        loan_intent_PERSONAL -0.545219  0.545219    -\n",
      "7    cb_person_default_on_file -0.247094  0.247094    -\n",
      "5                loan_int_rate  0.189867  0.189867    +\n"
     ]
    }
   ],
   "source": [
    "# ====================== SIMPLE BUT BETTER LOGREG ======================\n",
    "# Şərt: X_train, X_test, y_train, y_test hazırdır (1=bad, 0=good)\n",
    "\n",
    "from sklearn.linear_model import LogisticRegression\n",
    "from sklearn.model_selection import GridSearchCV, StratifiedKFold\n",
    "from sklearn.metrics import (\n",
    "    roc_auc_score, precision_score, recall_score, f1_score,\n",
    "    confusion_matrix, roc_curve\n",
    ")\n",
    "from sklearn.calibration import CalibratedClassifierCV\n",
    "\n",
    "RANDOM_STATE = 42\n",
    "\n",
    "# ---- 1) Cost-based threshold (sadə və praktik) ----\n",
    "def select_threshold_cost(y_true, y_prob, cost_fn=5.0, cost_fp=1.0):\n",
    "    fpr, tpr, thr = roc_curve(y_true, y_prob)\n",
    "    P = (np.asarray(y_true) == 1).sum()\n",
    "    N = (np.asarray(y_true) == 0).sum()\n",
    "    costs = cost_fn * (1 - tpr) * P + cost_fp * fpr * N\n",
    "    return float(thr[np.argmin(costs)])\n",
    "\n",
    "# ---- 2) Kiçik amma faydalı param grid + Stratified CV ----\n",
    "param_grid = [\n",
    "    # liblinear: L1/L2 üçün sabit seçim\n",
    "    {\"solver\": [\"liblinear\"], \"penalty\": [\"l2\", \"l1\"], \"C\": [0.1, 1.0, 10.0],\n",
    "     \"class_weight\": [None, \"balanced\"], \"max_iter\": [2000]},\n",
    "    # saga: böyük data/elasticnet üçün çevik; burada l2 saxlayırıq ki, sadə qalsın\n",
    "    {\"solver\": [\"saga\"], \"penalty\": [\"l2\"], \"C\": [0.1, 1.0, 10.0],\n",
    "     \"class_weight\": [None, \"balanced\"], \"max_iter\": [5000], \"n_jobs\": [-1], \"random_state\": [RANDOM_STATE]},\n",
    "]\n",
    "\n",
    "cv = StratifiedKFold(n_splits=5, shuffle=True, random_state=RANDOM_STATE)\n",
    "\n",
    "# Base model (penalty/grid daxilində təyin olunacaq, burada yalnız seed veririk)\n",
    "base_lr = LogisticRegression(random_state=RANDOM_STATE)\n",
    "\n",
    "grid = GridSearchCV(\n",
    "    estimator=base_lr,\n",
    "    param_grid=param_grid,\n",
    "    scoring=\"roc_auc\",\n",
    "    cv=cv,\n",
    "    n_jobs=-1,\n",
    "    verbose=0\n",
    ")\n",
    "\n",
    "# ---- 3) Fit (yalnız TRAIN) ----\n",
    "grid.fit(X_train_res, y_train_res)\n",
    "best_lr = grid.best_estimator_\n",
    "print(\"Best params:\", grid.best_params_)\n",
    "print(\"CV ROC-AUC :\", round(grid.best_score_, 4))\n",
    "\n",
    "# ---- 4) (Opsional amma faydalı) Kalibrasiya ----\n",
    "# Ehtimalların real müşahidə ilə uyğunluğu yaxşılaşır.\n",
    "calibrated = CalibratedClassifierCV(estimator=best_lr, method=\"isotonic\", cv=5)\n",
    "calibrated.fit(X_train_res, y_train_res)\n",
    "\n",
    "# ---- 5) TEST ehtimalı + threshold seçimi ----\n",
    "y_prob = calibrated.predict_proba(X_test)[:, 1]\n",
    "thr = select_threshold_cost(y_test, y_prob, cost_fn=5.0, cost_fp=1.0)  # FN 5x daha bahalı\n",
    "y_pred = (y_prob >= thr).astype(int)\n",
    "print(\"Chosen threshold (cost-based):\", round(thr, 3))\n",
    "\n",
    "# ---- 6) Sadə, aydın metriklər ----\n",
    "auc  = roc_auc_score(y_test, y_prob)\n",
    "prec = precision_score(y_test, y_pred, zero_division=0)\n",
    "rec  = recall_score(y_test, y_pred, zero_division=0)\n",
    "f1   = f1_score(y_test, y_pred, zero_division=0)\n",
    "cm   = confusion_matrix(y_test, y_pred, labels=[0,1])\n",
    "\n",
    "print(f\"AUC={auc:.3f} | Precision={prec:.3f} | Recall={rec:.3f} | F1={f1:.3f}\")\n",
    "print(\"Confusion Matrix [ [TN FP] [FN TP] ]:\\n\", cm)\n",
    "\n",
    "# ---- 7) Koeflər (izahlılıq) ----\n",
    "# Qeyd: coeff-lər kalibrasiyadan əvvəlki modeldədir (best_lr).\n",
    "coefs = best_lr.coef_.ravel()\n",
    "feat_names = getattr(X_train_res, \"columns\", [f\"x{i}\" for i in range(len(coefs))])\n",
    "coef_table = pd.DataFrame({\n",
    "    \"feature\": feat_names,\n",
    "    \"coef\": coefs,\n",
    "    \"abs_coef\": np.abs(coefs),\n",
    "    \"sign\": np.where(coefs >= 0, \"+\", \"-\")\n",
    "}).sort_values(\"abs_coef\", ascending=False)\n",
    "print(\"\\nTop 10 features by |coef|:\\n\", coef_table.head(10))\n"
   ]
  },
  {
   "cell_type": "code",
   "execution_count": 103,
   "id": "543ed22f",
   "metadata": {},
   "outputs": [
    {
     "data": {
      "image/png": "[encoded data removed]",
      "text/plain": [
       "<Figure size 500x400 with 2 Axes>"
      ]
     },
     "metadata": {},
     "output_type": "display_data"
    }
   ],
   "source": [
    "plt.figure(figsize=(5,4))\n",
    "sns.heatmap(cm, annot=True, fmt=\"d\", cmap=\"Blues\", xticklabels=[\"Pred Good\",\"Pred Bad\"], yticklabels=[\"True Good\",\"True Bad\"])\n",
    "plt.ylabel(\"Actual\")\n",
    "plt.xlabel(\"Predicted\")\n",
    "plt.title(\"Confusion Matrix\")\n",
    "plt.show()\n"
   ]
  },
  {
   "cell_type": "code",
   "execution_count": 105,
   "id": "122844a4",
   "metadata": {},
   "outputs": [
    {
     "name": "stdout",
     "output_type": "stream",
     "text": [
      "Best params (XGB): {'subsample': 0.9, 'reg_lambda': 1.0, 'reg_alpha': 0.0, 'n_estimators': 300, 'max_depth': 6, 'learning_rate': 0.07, 'colsample_bytree': 0.9}\n",
      "CV ROC-AUC (XGB): 0.9858\n",
      "Chosen threshold (cost-based, XGB): 0.12\n",
      "AUC=0.942 | Precision=0.624 | Recall=0.875 | F1=0.729\n",
      "Confusion Matrix [ [TN FP] [FN TP] ]:\n",
      " [[3892  690]\n",
      " [ 164 1146]]\n"
     ]
    },
    {
     "data": {
      "image/png": "[encoded data removed]",
      "text/plain": [
       "<Figure size 500x400 with 2 Axes>"
      ]
     },
     "metadata": {},
     "output_type": "display_data"
    },
    {
     "name": "stdout",
     "output_type": "stream",
     "text": [
      "\n",
      "Top 15 features by gain (XGB):\n",
      "                         feature       gain\n",
      "3                    loan_grade  85.147614\n",
      "11   person_home_ownership_RENT  58.220604\n",
      "6           loan_percent_income  53.781216\n",
      "10    person_home_ownership_OWN  40.644848\n",
      "16          loan_intent_VENTURE  37.389748\n",
      "12        loan_intent_EDUCATION  30.932270\n",
      "13  loan_intent_HOMEIMPROVEMENT  30.295509\n",
      "15         loan_intent_PERSONAL  25.993242\n",
      "8    cb_person_cred_hist_length  23.978321\n",
      "14          loan_intent_MEDICAL  21.438873\n",
      "1                 person_income  19.137375\n",
      "2             person_emp_length  18.199785\n",
      "0                    person_age  15.311740\n",
      "5                 loan_int_rate  13.911499\n",
      "9   person_home_ownership_OTHER  12.921732\n"
     ]
    }
   ],
   "source": [
    "# ============================ XGBOOST for CREDIT RISK (FULL, COMMENTED) ============================\n",
    "# Məqsəd:\n",
    "#  - XGBoost ilə binary klassifikasiya (1=bad, 0=good) — kredit riski\n",
    "#  - Kiçik RandomizedSearchCV (AUC scoring) — tez və faydalı tuning\n",
    "#  - Ehtimal kalibrasiyası (isotonic) — PD-lər daha real olsun\n",
    "#  - Cost-based threshold — FP/FN balansını biznes xərcinə görə seçirik\n",
    "#  - Hesabat: AUC, Precision, Recall, F1, Confusion Matrix (vizual)\n",
    "#  - Feature importance (gain) — robust şəkildə adlandırma (f0.. və ya real adlar)\n",
    "#\n",
    "# Qeydlər:\n",
    "#  - Resampling (SMOTE) etmisənsə -> scale_pos_weight = 1 saxla (aşağıda belədir).\n",
    "#  - Resampling YOXDURSA -> scale_pos_weight ≈ (#good / #bad) vermək faydalıdır.\n",
    "#  - X_test preprocessing-in (kolon sırası, encoder mapping) X_train-lə eyni olmalıdır.\n",
    "import re\n",
    "\n",
    "from sklearn.model_selection import RandomizedSearchCV, StratifiedKFold\n",
    "from sklearn.metrics import (\n",
    "    roc_auc_score, precision_score, recall_score, f1_score,\n",
    "    confusion_matrix, roc_curve\n",
    ")\n",
    "from sklearn.calibration import CalibratedClassifierCV\n",
    "\n",
    "# XGBoost importu — quraşdırılmayıbsa: pip install xgboost\n",
    "from xgboost import XGBClassifier\n",
    "\n",
    "RANDOM_STATE = 42\n",
    "\n",
    "# ---------------------------------------------------------------------------------------------------\n",
    "# 1) Cost-based threshold seçimi\n",
    "#    Idea: Biznesdə adətən FN (risqli müştərini buraxmaq) FP-dən daha bahadır.\n",
    "#    Ona görə \"expected cost\" minimum olan threshold-u seçirik.\n",
    "# ---------------------------------------------------------------------------------------------------\n",
    "def select_threshold_cost(y_true, y_prob, cost_fn=5.0, cost_fp=1.0):\n",
    "    \"\"\"\n",
    "    y_true: 0/1 (1=bad)\n",
    "    y_prob: modelin verdiyi ehtimallar (bad olma ehtimalı)\n",
    "    cost_fn: False Negative-in nisbi xərci\n",
    "    cost_fp: False Positive-in nisbi xərci\n",
    "    \"\"\"\n",
    "    fpr, tpr, thr = roc_curve(y_true, y_prob)\n",
    "    P = (np.asarray(y_true) == 1).sum()  # neçə bad var\n",
    "    N = (np.asarray(y_true) == 0).sum()  # neçə good var\n",
    "    # E[cost] = cost_fn * FN + cost_fp * FP\n",
    "    # FN = (1-TPR)*P ; FP = FPR*N\n",
    "    costs = cost_fn * (1 - tpr) * P + cost_fp * fpr * N\n",
    "    return float(thr[np.argmin(costs)])\n",
    "\n",
    "# ---------------------------------------------------------------------------------------------------\n",
    "# 2) Kiçik, praktik param axtarışı (RandomizedSearchCV)\n",
    "#    Niyə randomized? -> GridSearch-dən daha sürətli, kifayət qədər nəticəlidir.\n",
    "#    Ağac metodu 'hist' -> CPU-da daha sürətli treyn\n",
    "# ---------------------------------------------------------------------------------------------------\n",
    "param_dist = {\n",
    "    # Ağac sayı — çox böyük etməyə gərək yoxdur; calibrasiya + threshold sonrakı mərhələlərdir\n",
    "    \"n_estimators\":      [200, 300, 500],\n",
    "    # Ağac dərinliyi — 3–6 aralığı kredit risk üçün tipikdir\n",
    "    \"max_depth\":         [3, 4, 5, 6],\n",
    "    # Öyrənmə tempi — kiçik dəyərlər daha sabit, böyük dəyərlər daha sürətli\n",
    "    \"learning_rate\":     [0.03, 0.05, 0.07, 0.1],\n",
    "    # Row/column subsampling — overfit-in qarşısını alır\n",
    "    \"subsample\":         [0.7, 0.8, 0.9, 1.0],\n",
    "    \"colsample_bytree\":  [0.7, 0.8, 0.9, 1.0],\n",
    "    # Regularizasiya — L2/L1\n",
    "    \"reg_lambda\":        [1.0, 3.0, 5.0, 10.0],\n",
    "    \"reg_alpha\":         [0.0, 0.1, 0.5, 1.0],\n",
    "    # Imbalance üçün (yalnız resampling yoxdursa aç) :\n",
    "    # \"scale_pos_weight\": [1.0, 2.0, 3.0, 5.0, 10.0],\n",
    "}\n",
    "\n",
    "cv = StratifiedKFold(n_splits=5, shuffle=True, random_state=RANDOM_STATE)\n",
    "\n",
    "base_xgb = XGBClassifier(\n",
    "    objective=\"binary:logistic\",   # 0..1 ehtimal\n",
    "    eval_metric=\"auc\",             # daxili AUC metric (sklearn scoring ayrıca AUC verəcək)\n",
    "    tree_method=\"hist\",            # sürətli CPU təlimi\n",
    "    random_state=RANDOM_STATE,\n",
    "    n_jobs=-1                      # bütün nüvələr\n",
    ")\n",
    "\n",
    "search = RandomizedSearchCV(\n",
    "    estimator=base_xgb,\n",
    "    param_distributions=param_dist,\n",
    "    n_iter=25,                     # 25 iter — praktik kompromis (dəyişdirilə bilər)\n",
    "    scoring=\"roc_auc\",\n",
    "    cv=cv,\n",
    "    n_jobs=-1,\n",
    "    random_state=RANDOM_STATE,\n",
    "    verbose=0,\n",
    "    refit=True                     # ən yaxşısını avtomatik refit etsin\n",
    ")\n",
    "\n",
    "# ---------------------------------------------------------------------------------------------------\n",
    "# 3) Modeli fit et\n",
    "#    Səndə resampled train var (X_train_res, y_train_res). YOXDURSA X_train, y_train yaz.\n",
    "# ---------------------------------------------------------------------------------------------------\n",
    "# !!! ƏGƏR RESAMPLING YOXDURSA: search.fit(X_train, y_train)\n",
    "search.fit(X_train_res, y_train_res)\n",
    "\n",
    "best_xgb = search.best_estimator_\n",
    "print(\"Best params (XGB):\", search.best_params_)\n",
    "print(\"CV ROC-AUC (XGB):\", round(search.best_score_, 4))\n",
    "\n",
    "# ---------------------------------------------------------------------------------------------------\n",
    "# 4) (Opsional ama faydalı) Kalibrasiya\n",
    "#    Niyə? XGBoost ehtimalları bəzən “kəskin” olur (under/over-confidence).\n",
    "#    Isotonic calibration ehtimalların PD kimi daha real olmasına kömək edir.\n",
    "#    Qeyd: Kalibrasiya da TRAIN üzərində (CV ilə) edilir; TEST yalnız qiymətləndirmə üçündür.\n",
    "# ---------------------------------------------------------------------------------------------------\n",
    "calibrated_xgb = CalibratedClassifierCV(\n",
    "    estimator=best_xgb,\n",
    "    method=\"isotonic\",  # alternativ: \"sigmoid\" (Platt scaling) — data azdırsa daha stabil ola bilər\n",
    "    cv=5\n",
    ")\n",
    "# !!! ƏGƏR RESAMPLING YOXDURSA: calibrated_xgb.fit(X_train, y_train)\n",
    "calibrated_xgb.fit(X_train_res, y_train_res)\n",
    "\n",
    "# ---------------------------------------------------------------------------------------------------\n",
    "# 5) TEST ehtimalları + threshold seçimi (cost-based)\n",
    "#    Burada artıq TEST-ə baxırıq: cutoff-u biznes xərci ilə optimallaşdırırıq.\n",
    "# ---------------------------------------------------------------------------------------------------\n",
    "y_prob = calibrated_xgb.predict_proba(X_test)[:, 1]  # 1 = bad ehtimalı\n",
    "thr = select_threshold_cost(y_test, y_prob, cost_fn=5.0, cost_fp=1.0)  # FN 5x bahadır (nümunə)\n",
    "y_pred = (y_prob >= thr).astype(int)\n",
    "print(\"Chosen threshold (cost-based, XGB):\", round(thr, 3))\n",
    "\n",
    "# ---------------------------------------------------------------------------------------------------\n",
    "# 6) Hesabat metrikləri (sadə və aydın)\n",
    "# ---------------------------------------------------------------------------------------------------\n",
    "auc  = roc_auc_score(y_test, y_prob)\n",
    "prec = precision_score(y_test, y_pred, zero_division=0)\n",
    "rec  = recall_score(y_test, y_pred, zero_division=0)\n",
    "f1   = f1_score(y_test, y_pred, zero_division=0)\n",
    "cm   = confusion_matrix(y_test, y_pred, labels=[0,1])\n",
    "\n",
    "print(f\"AUC={auc:.3f} | Precision={prec:.3f} | Recall={rec:.3f} | F1={f1:.3f}\")\n",
    "print(\"Confusion Matrix [ [TN FP] [FN TP] ]:\\n\", cm)\n",
    "\n",
    "# ---------------------------------------------------------------------------------------------------\n",
    "# 7) Confusion Matrix — sadə vizual (yalnız matplotlib)\n",
    "# ---------------------------------------------------------------------------------------------------\n",
    "plt.figure(figsize=(5,4))\n",
    "plt.imshow(cm, interpolation='nearest')\n",
    "plt.title(\"XGBoost — Confusion Matrix\")\n",
    "plt.colorbar()\n",
    "tick_marks = np.arange(2)\n",
    "plt.xticks(tick_marks, [\"Pred Good\",\"Pred Bad\"])\n",
    "plt.yticks(tick_marks, [\"True Good\",\"True Bad\"])\n",
    "# Rəqəmləri hüceyrəyə yaz\n",
    "for i in range(cm.shape[0]):\n",
    "    for j in range(cm.shape[1]):\n",
    "        plt.text(j, i, int(cm[i, j]), ha=\"center\", va=\"center\")\n",
    "plt.ylabel(\"Actual\")\n",
    "plt.xlabel(\"Predicted\")\n",
    "plt.tight_layout()\n",
    "plt.show()\n",
    "\n",
    "# ---------------------------------------------------------------------------------------------------\n",
    "# 8) Feature importance (gain) — robust adlandırma\n",
    "#    XGBoost booster.get_score() bəzən 'f0','f1'... qaytarır, bəzən isə birbaşa kolon adlarını.\n",
    "#    Aşağıdakı kod hər iki halı dəstəkləyir.\n",
    "# ---------------------------------------------------------------------------------------------------\n",
    "booster = best_xgb.get_booster()\n",
    "importances = booster.get_score(importance_type=\"gain\")  # dict: key -> score\n",
    "\n",
    "feat_names = getattr(X_train_res, \"columns\", None)  # DataFrame-dirsə adları götür\n",
    "rows = []\n",
    "pattern = re.compile(r\"^f(\\d+)$\")  # 'f12' kimi açarları tutmaq üçün\n",
    "\n",
    "for k, v in importances.items():\n",
    "    m = pattern.match(k)\n",
    "    if m and feat_names is not None:\n",
    "        # 'f#' formasındadır → indeksi real ada map et\n",
    "        idx = int(m.group(1))\n",
    "        name = feat_names[idx] if idx < len(feat_names) else k\n",
    "    else:\n",
    "        # onsuz da real ad gəlir və ya feat_names yoxdur → olduğu kimi saxla\n",
    "        name = k\n",
    "    rows.append((name, v))\n",
    "\n",
    "imp_df = pd.DataFrame(rows, columns=[\"feature\", \"gain\"]).sort_values(\"gain\", ascending=False)\n",
    "print(\"\\nTop 15 features by gain (XGB):\\n\", imp_df.head(15))\n",
    "\n",
    "# ---------------------------------------------------------------------------------------------------\n",
    "# 9) (Opsional) Threshold-u biznes tələbinə görə hədəflə\n",
    "#    Məs: “Precision ən azı 60% olsun” deyə şərt qoya bilərsən:\n",
    "# ---------------------------------------------------------------------------------------------------\n",
    "# from sklearn.metrics import precision_recall_curve\n",
    "# precs, recs, thrs = precision_recall_curve(y_test, y_prob)\n",
    "# target_p = 0.60\n",
    "# idx = np.argmax(precs >= target_p)\n",
    "# thr_p60 = thrs[idx] if idx < len(thrs) else 0.5\n",
    "# print(\"Threshold for >=60% Precision:\", round(thr_p60, 3))\n",
    "# y_pred_p60 = (y_prob >= thr_p60).astype(int)\n",
    "# print(\"P(>=60%)=\", precision_score(y_test, y_pred_p60, zero_division=0),\n",
    "#       \"R=\", recall_score(y_test, y_pred_p60, zero_division=0))\n",
    "#\n",
    "# Qeyd: Precision ↑ edəndə Recall adətən ↓ olur; biznes prioritetinə uyğun seç.\n",
    "\n",
    "# ---------------------------------------------------------------------------------------------------\n",
    "# 10) (Opsional) Modeli saxla — production üçün\n",
    "# ---------------------------------------------------------------------------------------------------\n",
    "# import joblib\n",
    "# joblib.dump(calibrated_xgb, \"xgb_calibrated_credit_risk.joblib\")\n",
    "# imp_df.to_csv(\"xgb_feature_importance_gain.csv\", index=False)\n"
   ]
  },
  {
   "cell_type": "code",
   "execution_count": 107,
   "id": "679026b7",
   "metadata": {},
   "outputs": [
    {
     "name": "stderr",
     "output_type": "stream",
     "text": [
      "C:\\Users\\LENOVO\\AppData\\Local\\Temp\\ipykernel_15548\\3609455111.py:3: FutureWarning: \n",
      "\n",
      "Passing `palette` without assigning `hue` is deprecated and will be removed in v0.14.0. Assign the `y` variable to `hue` and set `legend=False` for the same effect.\n",
      "\n",
      "  sns.barplot(\n"
     ]
    },
    {
     "data": {
      "image/png": "[encoded data removed]",
      "text/plain": [
       "<Figure size 800x600 with 1 Axes>"
      ]
     },
     "metadata": {},
     "output_type": "display_data"
    }
   ],
   "source": [
    "top_feats = imp_df.head(15)\n",
    "plt.figure(figsize=(8,6))\n",
    "sns.barplot(\n",
    "    data=top_feats,\n",
    "    x=\"gain\", \n",
    "    y=\"feature\", \n",
    "    palette=\"Blues_r\"   # rəng palitrası (daha tünddən açığa)\n",
    ")\n",
    "plt.title(\"XGBoost Feature Importance (Gain)\", fontsize=14)\n",
    "plt.xlabel(\"Gain (Importance)\", fontsize=12)\n",
    "plt.ylabel(\"Feature\", fontsize=12)\n",
    "plt.tight_layout()\n",
    "plt.show()\n"
   ]
  },
  {
   "cell_type": "code",
   "execution_count": 108,
   "id": "3ad9d7d0",
   "metadata": {},
   "outputs": [
    {
     "name": "stdout",
     "output_type": "stream",
     "text": [
      "Logistic Regression:\n",
      "  Bad ehtimalı: 0.421\n",
      "  Prediction  : GOOD\n",
      "\n",
      "XGBoost:\n",
      "  Bad ehtimalı: 0.186\n",
      "  Prediction  : GOOD\n"
     ]
    }
   ],
   "source": [
    "# ------------------ Logistic Regression prediction ------------------\n",
    "lr_prob = best_lr.predict_proba(X_test.iloc[0:1])[:, 1][0]  # ehtimal (bad olma)\n",
    "lr_pred = best_lr.predict(X_test.iloc[0:1])[0]              # 0=good, 1=bad\n",
    "\n",
    "print(\"Logistic Regression:\")\n",
    "print(\"  Bad ehtimalı:\", round(lr_prob, 3))\n",
    "print(\"  Prediction  :\", \"BAD\" if lr_pred==1 else \"GOOD\")\n",
    "\n",
    "# ------------------ XGBoost prediction ------------------\n",
    "xgb_prob = calibrated_xgb.predict_proba(X_test.iloc[0:1])[:, 1][0]\n",
    "xgb_pred = calibrated_xgb.predict(X_test.iloc[0:1])[0]\n",
    "\n",
    "print(\"\\nXGBoost:\")\n",
    "print(\"  Bad ehtimalı:\", round(xgb_prob, 3))\n",
    "print(\"  Prediction  :\", \"BAD\" if xgb_pred==1 else \"GOOD\")\n"
   ]
  },
  {
   "cell_type": "code",
   "execution_count": null,
   "id": "7204ae3a",
   "metadata": {},
   "outputs": [],
   "source": []
  }
 ],
 "metadata": {
  "kernelspec": {
   "display_name": "Python 3 (ipykernel)",
   "language": "python",
   "name": "python3"
  },
  "language_info": {
   "codemirror_mode": {
    "name": "ipython",
    "version": 3
   },
   "file_extension": ".py",
   "mimetype": "text/x-python",
   "name": "python",
   "nbconvert_exporter": "python",
   "pygments_lexer": "ipython3",
   "version": "3.11.5"
  }
 },
 "nbformat": 4,
 "nbformat_minor": 5
}
